{
 "cells": [
  {
   "cell_type": "markdown",
   "metadata": {},
   "source": [
    "# JSON examples and exercise\n",
    "****\n",
    "+ get familiar with packages for dealing with JSON\n",
    "+ study examples with JSON strings and files \n",
    "+ work on exercise to be completed and submitted \n",
    "****\n",
    "+ reference: http://pandas.pydata.org/pandas-docs/stable/io.html#io-json-reader\n",
    "+ data source: http://jsonstudio.com/resources/\n",
    "****"
   ]
  },
  {
   "cell_type": "code",
   "execution_count": null,
   "metadata": {
    "collapsed": true
   },
   "outputs": [],
   "source": [
    "import pandas as pd"
   ]
  },
  {
   "cell_type": "markdown",
   "metadata": {},
   "source": [
    "## imports for Python, Pandas"
   ]
  },
  {
   "cell_type": "code",
   "execution_count": null,
   "metadata": {
    "collapsed": true
   },
   "outputs": [],
   "source": [
    "import json\n",
    "from pandas.io.json import json_normalize"
   ]
  },
  {
   "cell_type": "markdown",
   "metadata": {},
   "source": [
    "## JSON example, with string\n",
    "\n",
    "+ demonstrates creation of normalized dataframes (tables) from nested json string\n",
    "+ source: http://pandas.pydata.org/pandas-docs/stable/io.html#normalization"
   ]
  },
  {
   "cell_type": "code",
   "execution_count": null,
   "metadata": {
    "collapsed": true
   },
   "outputs": [],
   "source": [
    "# define json string\n",
    "data = [{'state': 'Florida', \n",
    "         'shortname': 'FL',\n",
    "         'info': {'governor': 'Rick Scott'},\n",
    "         'counties': [{'name': 'Dade', 'population': 12345},\n",
    "                      {'name': 'Broward', 'population': 40000},\n",
    "                      {'name': 'Palm Beach', 'population': 60000}]},\n",
    "        {'state': 'Ohio',\n",
    "         'shortname': 'OH',\n",
    "         'info': {'governor': 'John Kasich'},\n",
    "         'counties': [{'name': 'Summit', 'population': 1234},\n",
    "                      {'name': 'Cuyahoga', 'population': 1337}]}]"
   ]
  },
  {
   "cell_type": "code",
   "execution_count": null,
   "metadata": {
    "collapsed": true
   },
   "outputs": [],
   "source": [
    "# use normalization to create tables from nested element\n",
    "json_normalize(data, 'counties')"
   ]
  },
  {
   "cell_type": "code",
   "execution_count": null,
   "metadata": {
    "collapsed": true
   },
   "outputs": [],
   "source": [
    "# further populate tables created from nested element\n",
    "json_normalize(data, 'counties', ['state', 'shortname', ['info', 'governor']])"
   ]
  },
  {
   "cell_type": "markdown",
   "metadata": {},
   "source": [
    "****\n",
    "## JSON example, with file\n",
    "\n",
    "+ demonstrates reading in a json file as a string and as a table\n",
    "+ uses small sample file containing data about projects funded by the World Bank \n",
    "+ data source: http://jsonstudio.com/resources/"
   ]
  },
  {
   "cell_type": "code",
   "execution_count": null,
   "metadata": {
    "collapsed": true
   },
   "outputs": [],
   "source": [
    "# load json as string\n",
    "json.load((open('data/world_bank_projects_less.json')))"
   ]
  },
  {
   "cell_type": "code",
   "execution_count": null,
   "metadata": {
    "collapsed": true
   },
   "outputs": [],
   "source": [
    "# load as Pandas dataframe\n",
    "sample_json_df = pd.read_json('data/world_bank_projects_less.json')\n",
    "sample_json_df"
   ]
  },
  {
   "cell_type": "markdown",
   "metadata": {},
   "source": [
    "****\n",
    "## JSON exercise\n",
    "\n",
    "Using data in file 'data/world_bank_projects.json' and the techniques demonstrated above,\n",
    "1. Find the 10 countries with most projects\n",
    "2. Find the top 10 major project themes (using column 'mjtheme_namecode')\n",
    "3. In 2. above you will notice that some entries have only the code and the name is missing. Create a dataframe with the missing names filled in."
   ]
  },
  {
   "cell_type": "code",
   "execution_count": 1,
   "metadata": {
    "collapsed": true
   },
   "outputs": [],
   "source": [
    "# Load packages\n",
    "import pandas as pd"
   ]
  },
  {
   "cell_type": "code",
   "execution_count": 2,
   "metadata": {
    "collapsed": true
   },
   "outputs": [],
   "source": [
    "# Import exercise data set\n",
    "json_df = pd.read_json('data/world_bank_projects.json')"
   ]
  },
  {
   "cell_type": "code",
   "execution_count": 3,
   "metadata": {},
   "outputs": [
    {
     "name": "stdout",
     "output_type": "stream",
     "text": [
      "<class 'pandas.core.frame.DataFrame'>\n",
      "Int64Index: 500 entries, 0 to 499\n",
      "Data columns (total 50 columns):\n",
      "_id                         500 non-null object\n",
      "approvalfy                  500 non-null int64\n",
      "board_approval_month        500 non-null object\n",
      "boardapprovaldate           500 non-null object\n",
      "borrower                    485 non-null object\n",
      "closingdate                 370 non-null object\n",
      "country_namecode            500 non-null object\n",
      "countrycode                 500 non-null object\n",
      "countryname                 500 non-null object\n",
      "countryshortname            500 non-null object\n",
      "docty                       446 non-null object\n",
      "envassesmentcategorycode    430 non-null object\n",
      "grantamt                    500 non-null int64\n",
      "ibrdcommamt                 500 non-null int64\n",
      "id                          500 non-null object\n",
      "idacommamt                  500 non-null int64\n",
      "impagency                   472 non-null object\n",
      "lendinginstr                495 non-null object\n",
      "lendinginstrtype            495 non-null object\n",
      "lendprojectcost             500 non-null int64\n",
      "majorsector_percent         500 non-null object\n",
      "mjsector_namecode           500 non-null object\n",
      "mjtheme                     491 non-null object\n",
      "mjtheme_namecode            500 non-null object\n",
      "mjthemecode                 500 non-null object\n",
      "prodline                    500 non-null object\n",
      "prodlinetext                500 non-null object\n",
      "productlinetype             500 non-null object\n",
      "project_abstract            362 non-null object\n",
      "project_name                500 non-null object\n",
      "projectdocs                 446 non-null object\n",
      "projectfinancialtype        500 non-null object\n",
      "projectstatusdisplay        500 non-null object\n",
      "regionname                  500 non-null object\n",
      "sector                      500 non-null object\n",
      "sector1                     500 non-null object\n",
      "sector2                     380 non-null object\n",
      "sector3                     265 non-null object\n",
      "sector4                     174 non-null object\n",
      "sector_namecode             500 non-null object\n",
      "sectorcode                  500 non-null object\n",
      "source                      500 non-null object\n",
      "status                      500 non-null object\n",
      "supplementprojectflg        498 non-null object\n",
      "theme1                      500 non-null object\n",
      "theme_namecode              491 non-null object\n",
      "themecode                   491 non-null object\n",
      "totalamt                    500 non-null int64\n",
      "totalcommamt                500 non-null int64\n",
      "url                         500 non-null object\n",
      "dtypes: int64(7), object(43)\n",
      "memory usage: 199.2+ KB\n",
      "None\n"
     ]
    }
   ],
   "source": [
    "# # Explore data \n",
    "# print(json_df.head())\n",
    "# print('------------------------------------------')\n",
    "# print(json_df.shape)\n",
    "# print('------------------------------------------')\n",
    "# print(json_df.index)\n",
    "# print('------------------------------------------')\n",
    "print(json_df.info())"
   ]
  },
  {
   "cell_type": "markdown",
   "metadata": {},
   "source": [
    "# PROBLEM 1 "
   ]
  },
  {
   "cell_type": "code",
   "execution_count": 4,
   "metadata": {},
   "outputs": [
    {
     "name": "stdout",
     "output_type": "stream",
     "text": [
      "Republic of Indonesia              19\n",
      "People's Republic of China         19\n",
      "Socialist Republic of Vietnam      17\n",
      "Republic of India                  16\n",
      "Republic of Yemen                  13\n",
      "Kingdom of Morocco                 12\n",
      "Nepal                              12\n",
      "People's Republic of Bangladesh    12\n",
      "Republic of Mozambique             11\n",
      "Africa                             11\n",
      "Name: countryname, dtype: int64\n"
     ]
    }
   ],
   "source": [
    "# The 10 countries with most projects - Method 1\n",
    "top_countries = json_df.countryname.value_counts()\n",
    "top_10_countries = top_countries[:10]\n",
    "print(top_10_countries)"
   ]
  },
  {
   "cell_type": "code",
   "execution_count": 5,
   "metadata": {
    "collapsed": true
   },
   "outputs": [],
   "source": [
    "# # The 10 countries with most projects - Method 2\n",
    "# print(  json_df.groupby('countryshortname')['_id'].count().sort_values(ascending=False)[:10] )  "
   ]
  },
  {
   "cell_type": "code",
   "execution_count": 6,
   "metadata": {
    "collapsed": true,
    "scrolled": true
   },
   "outputs": [],
   "source": [
    "# # Visualize projects counts for the top 10 countries \n",
    "# import matplotlib.pyplot as plt\n",
    "# plt.subplot(1,2,1)\n",
    "# top_10_countries.plot(kind='bar', title='Top 10 countries')\n",
    "\n",
    "# # Visualize shape of project counts by country\n",
    "# plt.subplot(1,2,2)\n",
    "# top_countries.plot(kind='bar', title='All countries')\n",
    "# plt.axis('off')\n",
    "# plt.show()"
   ]
  },
  {
   "cell_type": "markdown",
   "metadata": {},
   "source": [
    "# PROBLEM 2"
   ]
  },
  {
   "cell_type": "code",
   "execution_count": 7,
   "metadata": {},
   "outputs": [
    {
     "name": "stdout",
     "output_type": "stream",
     "text": [
      "Environment and natural resources management    223\n",
      "Rural development                               202\n",
      "Human development                               197\n",
      "Public sector governance                        184\n",
      "Social protection and risk management           158\n",
      "Financial and private sector development        130\n",
      "                                                122\n",
      "Social dev/gender/inclusion                     119\n",
      "Trade and integration                            72\n",
      "Urban development                                47\n",
      "Name: Project Count, dtype: int64\n"
     ]
    }
   ],
   "source": [
    "# Find the top 10 major project themes (using column 'mjtheme_namecode')\n",
    "\n",
    "# Extract column with major project themes\n",
    "project_themes_all = json_df['mjtheme_namecode']\n",
    "\n",
    "# Create series of project theme codes\n",
    "theme_code_list = [project_theme['code'] for project_themes in project_themes_all for project_theme in project_themes]\n",
    "theme_code_series = pd.Series(theme_code_list)\n",
    "\n",
    "# Output top 10 themes by code\n",
    "code_count = theme_code_series.value_counts()\n",
    "code_count_series = pd.Series(code_count, name='Project Count')\n",
    "code_count_series.index.name = 'Code'\n",
    "\n",
    "# Create series of project theme names \n",
    "theme_name_list = [project_theme['name'] for project_themes in project_themes_all for project_theme in project_themes]\n",
    "theme_name_series = pd.Series(theme_name_list)\n",
    "\n",
    "# Output top 10 themes with null values \n",
    "name_count = theme_name_series.value_counts()\n",
    "name_count_series = pd.Series(name_count, name='Project Count')\n",
    "print(name_count_series[:10])"
   ]
  },
  {
   "cell_type": "markdown",
   "metadata": {},
   "source": [
    "# Problem 3"
   ]
  },
  {
   "cell_type": "code",
   "execution_count": 8,
   "metadata": {},
   "outputs": [
    {
     "name": "stdout",
     "output_type": "stream",
     "text": [
      "Code\n",
      "1                              Economic management\n",
      "10                               Rural development\n",
      "11    Environment and natural resources management\n",
      "2                         Public sector governance\n",
      "3                                      Rule of law\n",
      "4         Financial and private sector development\n",
      "5                            Trade and integration\n",
      "6            Social protection and risk management\n",
      "7                      Social dev/gender/inclusion\n",
      "8                                Human development\n",
      "9                                Urban development\n",
      "Name: Name, dtype: object\n"
     ]
    }
   ],
   "source": [
    "# Create a dictionary of theme codes and names\n",
    "theme_name_list = [project_theme['name'] for project_themes in project_themes_all for project_theme in project_themes]\n",
    "code_name_set = set(zip(theme_code_list, theme_name_list))\n",
    "clean_dict = {theme[0]: theme[1] for theme in code_name_set if theme[1] != ''}\n",
    "code_name_series = pd.Series(clean_dict, name='Name')\n",
    "code_name_series.index.name = 'Code'\n",
    "print(code_name_series)\n"
   ]
  },
  {
   "cell_type": "code",
   "execution_count": 9,
   "metadata": {},
   "outputs": [
    {
     "name": "stdout",
     "output_type": "stream",
     "text": [
      "   Code                                          Name  Count\n",
      "0    11  Environment and natural resources management    250\n",
      "1    10                             Rural development    216\n",
      "2     8                             Human development    210\n",
      "3     2                      Public sector governance    199\n",
      "4     6         Social protection and risk management    168\n",
      "5     4      Financial and private sector development    146\n",
      "6     7                   Social dev/gender/inclusion    130\n",
      "7     5                         Trade and integration     77\n",
      "8     9                             Urban development     50\n",
      "9     1                           Economic management     38\n",
      "10    3                                   Rule of law     15\n"
     ]
    }
   ],
   "source": [
    "# Create dataframe with Code, Name and project count\n",
    "df_code_name_count = pd.concat([code_name_series, code_count_series], axis=1)\n",
    "df_code_name_count = df_code_name_count.sort_values('Project Count', ascending = False).reset_index()\n",
    "df_code_name_count.columns = ['Code', 'Name', 'Count']\n",
    "print(df_code_name_count)"
   ]
  },
  {
   "cell_type": "code",
   "execution_count": 10,
   "metadata": {},
   "outputs": [
    {
     "name": "stdout",
     "output_type": "stream",
     "text": [
      "Pre Clean: [{'code': '8', 'name': 'Human development'}, {'code': '11', 'name': ''}]\n",
      "Post Clean: [{'code': '8', 'name': 'Human development'}, {'code': '11', 'name': 'Environment and natural resources management'}]\n"
     ]
    }
   ],
   "source": [
    "# Clean json_dataframe \n",
    "# Create copy of the dataframe \n",
    "json_df_clean = json_df.copy()\n",
    "\n",
    "# Create clean column for 'mjtheme_namecode'\n",
    "project_themes_col_clean = []\n",
    "\n",
    "for project_themes in json_df_clean['mjtheme_namecode']:\n",
    "    project = []\n",
    "    for theme in project_themes:\n",
    "        if theme['name'] == '':\n",
    "            project.append({'code': theme['code'], 'name': clean_dict[theme['code']]})\n",
    "        else: \n",
    "            project.append(theme)\n",
    "    project_themes_col_clean.append(project)\n",
    "\n",
    "# Copy over clean column\n",
    "json_df_clean['mjtheme_namecode'] = project_themes_col_clean\n",
    "\n",
    "# Print to check \n",
    "print( 'Pre Clean:', str(json_df['mjtheme_namecode'][0]) )\n",
    "print( 'Post Clean:', str(json_df_clean['mjtheme_namecode'][0]) )"
   ]
  },
  {
   "cell_type": "code",
   "execution_count": null,
   "metadata": {
    "collapsed": true
   },
   "outputs": [],
   "source": []
  }
 ],
 "metadata": {
  "kernelspec": {
   "display_name": "Python 3",
   "language": "python",
   "name": "python3"
  },
  "language_info": {
   "codemirror_mode": {
    "name": "ipython",
    "version": 3
   },
   "file_extension": ".py",
   "mimetype": "text/x-python",
   "name": "python",
   "nbconvert_exporter": "python",
   "pygments_lexer": "ipython3",
   "version": "3.6.2"
  }
 },
 "nbformat": 4,
 "nbformat_minor": 1
}
