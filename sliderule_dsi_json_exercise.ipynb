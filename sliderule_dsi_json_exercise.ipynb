{
 "cells": [
  {
   "cell_type": "markdown",
   "metadata": {},
   "source": [
    "# JSON examples and exercise\n",
    "****\n",
    "+ get familiar with packages for dealing with JSON\n",
    "+ study examples with JSON strings and files \n",
    "+ work on exercise to be completed and submitted \n",
    "****\n",
    "+ reference: http://pandas.pydata.org/pandas-docs/stable/io.html#io-json-reader\n",
    "+ data source: http://jsonstudio.com/resources/\n",
    "****"
   ]
  },
  {
   "cell_type": "code",
   "execution_count": null,
   "metadata": {
    "collapsed": true
   },
   "outputs": [],
   "source": [
    "import pandas as pd"
   ]
  },
  {
   "cell_type": "markdown",
   "metadata": {},
   "source": [
    "## imports for Python, Pandas"
   ]
  },
  {
   "cell_type": "code",
   "execution_count": null,
   "metadata": {
    "collapsed": true
   },
   "outputs": [],
   "source": [
    "import json\n",
    "from pandas.io.json import json_normalize"
   ]
  },
  {
   "cell_type": "markdown",
   "metadata": {},
   "source": [
    "## JSON example, with string\n",
    "\n",
    "+ demonstrates creation of normalized dataframes (tables) from nested json string\n",
    "+ source: http://pandas.pydata.org/pandas-docs/stable/io.html#normalization"
   ]
  },
  {
   "cell_type": "code",
   "execution_count": null,
   "metadata": {
    "collapsed": true
   },
   "outputs": [],
   "source": [
    "# define json string\n",
    "data = [{'state': 'Florida', \n",
    "         'shortname': 'FL',\n",
    "         'info': {'governor': 'Rick Scott'},\n",
    "         'counties': [{'name': 'Dade', 'population': 12345},\n",
    "                      {'name': 'Broward', 'population': 40000},\n",
    "                      {'name': 'Palm Beach', 'population': 60000}]},\n",
    "        {'state': 'Ohio',\n",
    "         'shortname': 'OH',\n",
    "         'info': {'governor': 'John Kasich'},\n",
    "         'counties': [{'name': 'Summit', 'population': 1234},\n",
    "                      {'name': 'Cuyahoga', 'population': 1337}]}]"
   ]
  },
  {
   "cell_type": "code",
   "execution_count": null,
   "metadata": {
    "collapsed": true
   },
   "outputs": [],
   "source": [
    "# use normalization to create tables from nested element\n",
    "json_normalize(data, 'counties')"
   ]
  },
  {
   "cell_type": "code",
   "execution_count": null,
   "metadata": {
    "collapsed": true
   },
   "outputs": [],
   "source": [
    "# further populate tables created from nested element\n",
    "json_normalize(data, 'counties', ['state', 'shortname', ['info', 'governor']])"
   ]
  },
  {
   "cell_type": "markdown",
   "metadata": {},
   "source": [
    "****\n",
    "## JSON example, with file\n",
    "\n",
    "+ demonstrates reading in a json file as a string and as a table\n",
    "+ uses small sample file containing data about projects funded by the World Bank \n",
    "+ data source: http://jsonstudio.com/resources/"
   ]
  },
  {
   "cell_type": "code",
   "execution_count": null,
   "metadata": {},
   "outputs": [],
   "source": [
    "# load json as string\n",
    "json.load((open('data/world_bank_projects_less.json')))"
   ]
  },
  {
   "cell_type": "code",
   "execution_count": null,
   "metadata": {
    "collapsed": true
   },
   "outputs": [],
   "source": [
    "# load as Pandas dataframe\n",
    "sample_json_df = pd.read_json('data/world_bank_projects_less.json')\n",
    "sample_json_df"
   ]
  },
  {
   "cell_type": "markdown",
   "metadata": {},
   "source": [
    "****\n",
    "## JSON exercise\n",
    "\n",
    "Using data in file 'data/world_bank_projects.json' and the techniques demonstrated above,\n",
    "1. Find the 10 countries with most projects\n",
    "2. Find the top 10 major project themes (using column 'mjtheme_namecode')\n",
    "3. In 2. above you will notice that some entries have only the code and the name is missing. Create a dataframe with the missing names filled in."
   ]
  },
  {
   "cell_type": "code",
   "execution_count": 1,
   "metadata": {
    "collapsed": true
   },
   "outputs": [],
   "source": [
    "# Load packages\n",
    "import pandas as pd"
   ]
  },
  {
   "cell_type": "code",
   "execution_count": 2,
   "metadata": {},
   "outputs": [],
   "source": [
    "# Import exercise data set\n",
    "json_df = pd.read_json('data/world_bank_projects.json')"
   ]
  },
  {
   "cell_type": "code",
   "execution_count": null,
   "metadata": {},
   "outputs": [],
   "source": [
    "# # Explore data \n",
    "# print(json_df.head())\n",
    "# print('------------------------------------------')\n",
    "# print(json_df.shape)\n",
    "# print('------------------------------------------')\n",
    "# print(json_df.index)\n",
    "# print('------------------------------------------')\n",
    "# print(json_df.info())"
   ]
  },
  {
   "cell_type": "code",
   "execution_count": 3,
   "metadata": {},
   "outputs": [
    {
     "name": "stdout",
     "output_type": "stream",
     "text": [
      "China                 19\n",
      "Indonesia             19\n",
      "Vietnam               17\n",
      "India                 16\n",
      "Yemen, Republic of    13\n",
      "Bangladesh            12\n",
      "Nepal                 12\n",
      "Morocco               12\n",
      "Africa                11\n",
      "Mozambique            11\n",
      "Name: countryshortname, dtype: int64\n"
     ]
    }
   ],
   "source": [
    "# The 10 countries with most projects - Method 1\n",
    "top_countries = json_df.countryshortname.value_counts()\n",
    "top_10_countries = top_countries[:10]\n",
    "print(top_10_countries)"
   ]
  },
  {
   "cell_type": "code",
   "execution_count": null,
   "metadata": {},
   "outputs": [],
   "source": [
    "# # The 10 countries with most projects - Method 2\n",
    "# print(  json_df.groupby('countryshortname')['_id'].count().sort_values(ascending=False)[:10] )  "
   ]
  },
  {
   "cell_type": "code",
   "execution_count": null,
   "metadata": {
    "scrolled": true
   },
   "outputs": [],
   "source": [
    "# # Visualize projects counts for the top 10 countries \n",
    "# import matplotlib.pyplot as plt\n",
    "# plt.subplot(1,2,1)\n",
    "# top_10_countries.plot(kind='bar', title='Top 10 countries')\n",
    "\n",
    "# # Visualize shape of project counts by country\n",
    "# plt.subplot(1,2,2)\n",
    "# top_countries.plot(kind='bar', title='All countries')\n",
    "# plt.axis('off')\n",
    "# plt.show()"
   ]
  },
  {
   "cell_type": "code",
   "execution_count": 4,
   "metadata": {},
   "outputs": [
    {
     "name": "stdout",
     "output_type": "stream",
     "text": [
      "Code\n",
      "11    250\n",
      "10    216\n",
      "8     210\n",
      "2     199\n",
      "6     168\n",
      "4     146\n",
      "7     130\n",
      "5      77\n",
      "9      50\n",
      "1      38\n",
      "3      15\n",
      "Name: Project Count, dtype: int64\n"
     ]
    }
   ],
   "source": [
    "# Find the top 10 major project themes (using column 'mjtheme_namecode')\n",
    "\n",
    "# Extract column with major project themes\n",
    "project_themes_all = json_df['mjtheme_namecode']\n",
    "\n",
    "# Create series of project theme codes\n",
    "theme_code_list = [project_theme['code'] for project_themes in project_themes_all for project_theme in project_themes]\n",
    "theme_code_series = pd.Series(theme_code_list)\n",
    "\n",
    "# Output top 10 themes\n",
    "code_count = theme_code_series.value_counts()\n",
    "code_count_series = pd.Series(code_count, name='Project Count')\n",
    "code_count_series.index.name = 'Code'\n",
    "print(code_count_series)"
   ]
  },
  {
   "cell_type": "code",
   "execution_count": 5,
   "metadata": {},
   "outputs": [
    {
     "name": "stdout",
     "output_type": "stream",
     "text": [
      "Code\n",
      "1                              Economic management\n",
      "10                               Rural development\n",
      "11    Environment and natural resources management\n",
      "2                         Public sector governance\n",
      "3                                      Rule of law\n",
      "4         Financial and private sector development\n",
      "5                            Trade and integration\n",
      "6            Social protection and risk management\n",
      "7                      Social dev/gender/inclusion\n",
      "8                                Human development\n",
      "9                                Urban development\n",
      "Name: Name, dtype: object\n"
     ]
    }
   ],
   "source": [
    "# Create a dictionary of theme codes and names\n",
    "theme_name_list = [project_theme['name'] for project_themes in project_themes_all for project_theme in project_themes]\n",
    "code_name_set = set(zip(theme_code_list, theme_name_list))\n",
    "clean_dict = {theme[0]: theme[1] for theme in code_name_set if theme[1] != ''}\n",
    "code_name_series = pd.Series(clean_dict, name='Name')\n",
    "code_name_series.index.name = 'Code'\n",
    "print(code_name_series)\n"
   ]
  },
  {
   "cell_type": "code",
   "execution_count": 6,
   "metadata": {},
   "outputs": [
    {
     "name": "stdout",
     "output_type": "stream",
     "text": [
      "   Code                                          Name  Count\n",
      "0    11  Environment and natural resources management    250\n",
      "1    10                             Rural development    216\n",
      "2     8                             Human development    210\n",
      "3     2                      Public sector governance    199\n",
      "4     6         Social protection and risk management    168\n",
      "5     4      Financial and private sector development    146\n",
      "6     7                   Social dev/gender/inclusion    130\n",
      "7     5                         Trade and integration     77\n",
      "8     9                             Urban development     50\n",
      "9     1                           Economic management     38\n",
      "10    3                                   Rule of law     15\n"
     ]
    }
   ],
   "source": [
    "# Create dataframe with Code, Name and project count\n",
    "df_code_name_count = pd.concat([code_name_series, code_count_series], axis=1)\n",
    "df_code_name_count = df_code_name_count.sort_values('Project Count', ascending = False).reset_index()\n",
    "df_code_name_count.columns = ['Code', 'Name', 'Count']\n",
    "print(df_code_name_count)"
   ]
  },
  {
   "cell_type": "code",
   "execution_count": 8,
   "metadata": {},
   "outputs": [
    {
     "name": "stdout",
     "output_type": "stream",
     "text": [
      "Pre Clean: [{'code': '8', 'name': 'Human development'}, {'code': '11', 'name': ''}]\n",
      "Post Clean: [{'code': '8', 'name': 'Human development'}, {'code': '11', 'name': 'Environment and natural resources management'}]\n"
     ]
    }
   ],
   "source": [
    "# Clean json_dataframe \n",
    "# Create copy of the dataframe \n",
    "json_df_clean = json_df.copy()\n",
    "\n",
    "# Create clean column for 'mjtheme_namecode'\n",
    "project_themes_col_clean = []\n",
    "\n",
    "for project_themes in json_df_clean['mjtheme_namecode']:\n",
    "    project = []\n",
    "    for theme in project_themes:\n",
    "        if theme['name'] == '':\n",
    "            project.append({'code': theme['code'], 'name': clean_dict[theme['code']]})\n",
    "        else: \n",
    "            project.append(theme)\n",
    "    project_themes_col_clean.append(project)\n",
    "\n",
    "# Copy over clean column\n",
    "json_df_clean['mjtheme_namecode'] = project_themes_col_clean\n",
    "\n",
    "# Print to check \n",
    "print( 'Pre Clean:', str(json_df['mjtheme_namecode'][0]) )\n",
    "print( 'Post Clean:', str(json_df_clean['mjtheme_namecode'][0]) )"
   ]
  },
  {
   "cell_type": "code",
   "execution_count": null,
   "metadata": {
    "collapsed": true
   },
   "outputs": [],
   "source": []
  }
 ],
 "metadata": {
  "kernelspec": {
   "display_name": "Python 3",
   "language": "python",
   "name": "python3"
  },
  "language_info": {
   "codemirror_mode": {
    "name": "ipython",
    "version": 3
   },
   "file_extension": ".py",
   "mimetype": "text/x-python",
   "name": "python",
   "nbconvert_exporter": "python",
   "pygments_lexer": "ipython3",
   "version": "3.6.2"
  }
 },
 "nbformat": 4,
 "nbformat_minor": 1
}
